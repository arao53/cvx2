{
 "cells": [
  {
   "cell_type": "code",
   "execution_count": 44,
   "metadata": {},
   "outputs": [],
   "source": [
    "from projToSmplx import *\n",
    "import cvxpy as cp\n",
    "import matplotlib.pyplot as plt\n",
    "import numpy as np"
   ]
  },
  {
   "cell_type": "code",
   "execution_count": 45,
   "metadata": {},
   "outputs": [],
   "source": [
    "# generate data\n",
    "n = 500\n",
    "m = 50\n",
    "T = 25\n",
    "alpha = [2.**i for i in np.arange(-12,8,1)]\n",
    "A = np.random.normal(0,1,(T,m,n))\n",
    "b = np.random.normal(0,1,(T,m))\n",
    "# A = np.array([np.random.normal(0,1, n) for i in range(m)])"
   ]
  },
  {
   "cell_type": "markdown",
   "metadata": {},
   "source": [
    "## CVXPy"
   ]
  },
  {
   "cell_type": "code",
   "execution_count": 46,
   "metadata": {},
   "outputs": [
    {
     "name": "stderr",
     "output_type": "stream",
     "text": [
      "/home/akshay/miniconda3/envs/cvx2/lib/python3.12/site-packages/cvxpy/reductions/solvers/solving_chain.py:336: FutureWarning: \n",
      "    Your problem is being solved with the ECOS solver by default. Starting in \n",
      "    CVXPY 1.5.0, Clarabel will be used as the default solver instead. To continue \n",
      "    using ECOS, specify the ECOS solver explicitly using the ``solver=cp.ECOS`` \n",
      "    argument to the ``problem.solve`` method.\n",
      "    \n",
      "  warnings.warn(ECOS_DEPRECATION_MSG, FutureWarning)\n"
     ]
    }
   ],
   "source": [
    "def cvx_opt(A, b):\n",
    "    x = cp.Variable(n)\n",
    "    objective = cp.Minimize(cp.norm(A@x - b,1))\n",
    "    constraints = [x >= 0,\n",
    "                   x.T @ np.ones(n) == 1]\n",
    "    prob = cp.Problem(objective, constraints)\n",
    "    obj_cvx = prob.solve()\n",
    "    return x.value, obj_cvx\n",
    "\n",
    "obj_cvxs = [cvx_opt(A[i,:,:], b[i,:])[1] for i in range(T)]"
   ]
  },
  {
   "cell_type": "markdown",
   "metadata": {},
   "source": [
    "## Mirror Descent"
   ]
  },
  {
   "cell_type": "code",
   "execution_count": 47,
   "metadata": {},
   "outputs": [],
   "source": [
    "def subgrad_obj(x, A, b):\n",
    "    return np.sign(A@x - b) @ A\n",
    "\n",
    "def mirror_descent(A, b, alpha, steps =100):\n",
    "    x = np.ndarray((steps+1, n))\n",
    "    x[0,:] = np.zeros(n)\n",
    "    for i in range(steps):\n",
    "        x[i+1] = projToSmplx(x[i] - alpha*subgrad_obj(x[i], A, b))\n",
    "    return x\n",
    "\n",
    "xs = [[mirror_descent(A[i,:,:], b[i,:], a) for i in range(T)] for a in alpha] "
   ]
  },
  {
   "cell_type": "code",
   "execution_count": 48,
   "metadata": {},
   "outputs": [],
   "source": [
    "obj = np.array([[[np.linalg.norm(A[j,:,:]@xs[a][j][idx][:] - b[j,:],1) for idx in range(101)] for j in range(T)] for a in range(len(alpha))])\n",
    "gaps = np.array([[obj[a, i, -1] - obj_cvxs[i] for a in range(len(alpha))] for i in range(T)])\n",
    "gaps_avg = np.average(gaps, axis=0)\n",
    "alpha_best = np.argmin(gaps_avg)\n",
    "mirror_best_gaps = np.array([obj[alpha_best, i, :] - obj_cvxs[i] for i in range(T)])\n",
    "mirror_avgbest_gap =  np.average(mirror_best_gaps, axis=0)"
   ]
  },
  {
   "cell_type": "markdown",
   "metadata": {},
   "source": [
    "## Constrained Subgradient"
   ]
  },
  {
   "cell_type": "code",
   "execution_count": 89,
   "metadata": {},
   "outputs": [],
   "source": [
    "def func_c1(x):\n",
    "    \"\"\"\n",
    "    constraint -x <= 0\n",
    "    \"\"\"\n",
    "    n = len(x)\n",
    "    return np.max([-x,np.zeros(n)], axis = 0 )\n",
    "\n",
    "def func_c2(x):\n",
    "    \"\"\"\n",
    "    constraint x.T @ np.ones(n) == 1\n",
    "    \"\"\"\n",
    "    return x.T @ np.ones(n) - 1\n",
    "\n",
    "def subgrad_c1(x):\n",
    "    \"\"\"\n",
    "    subgradient of the constraint -x <= 0\n",
    "    \"\"\"\n",
    "    n = len(x)\n",
    "    return np.sign(np.max([-x, np.zeros(n)], axis=0))\n",
    "\n",
    "def subgrad_c2(x):\n",
    "    \"\"\"\n",
    "    subgradient of the constraint x.T @ np.ones(n) == 1\n",
    "    \"\"\"\n",
    "    n = len(x)\n",
    "    if x.T @ np.ones(n) == 1:\n",
    "        return np.zeros(n)\n",
    "    else:\n",
    "        return np.ones(n)"
   ]
  },
  {
   "cell_type": "code",
   "execution_count": 95,
   "metadata": {},
   "outputs": [],
   "source": [
    "def constrained_subgrad(Am, bm, a, steps=100):\n",
    "    x = np.ndarray((steps+1, n))\n",
    "    x[0,:] = np.zeros(n)\n",
    "    for i in range(steps):\n",
    "        if np.any(func_c1(x[i]) > 0):   # check c1 violation\n",
    "            g = subgrad_c1(x[i])\n",
    "        elif func_c2(x[i]) != 0:        # check c2 violation\n",
    "            g = subgrad_c2(x[i])\n",
    "        else:                           # use objective subgrad\n",
    "            g = subgrad_obj(x[i], Am, bm)\n",
    "        x[i+1,:] = x[i,:] - a*g\n",
    "    return x"
   ]
  },
  {
   "cell_type": "code",
   "execution_count": 96,
   "metadata": {},
   "outputs": [],
   "source": [
    "xs = [[constrained_subgrad(A[i,:,:], b[i,:], a) for i in range(T)] for a in alpha] "
   ]
  },
  {
   "cell_type": "code",
   "execution_count": 97,
   "metadata": {},
   "outputs": [],
   "source": [
    "obj_c = np.array([[[np.linalg.norm(A[j,:,:]@xs[a][j][idx][:] - b[j,:],1) for idx in range(101)] for j in range(T)] for a in range(len(alpha))])\n",
    "gaps_c = np.array([[obj_c[a, i, -1] - obj_cvxs[i] for a in range(len(alpha))] for i in range(T)])\n",
    "gaps_avg_c = np.average(gaps_c, axis=0)\n",
    "alpha_best_c = np.argmin(gaps_avg_c)\n",
    "consub_best_gaps = np.array([obj_c[alpha_best_c, i, :] - obj_cvxs[i] for i in range(T)])\n",
    "consub_avgbest_gap =  np.average(consub_best_gaps, axis=0)"
   ]
  },
  {
   "cell_type": "markdown",
   "metadata": {},
   "source": [
    "## Projected Subgradient"
   ]
  },
  {
   "cell_type": "code",
   "execution_count": 107,
   "metadata": {},
   "outputs": [],
   "source": [
    "def project_c1(x):\n",
    "    \"\"\"\n",
    "    Project x onto the constraint set -x <= 0\n",
    "    \"\"\"\n",
    "    if np.any(x < 0):\n",
    "        return np.max([x, np.zeros(len(x))], axis=0)\n",
    "    else:\n",
    "        return x\n",
    "\n",
    "def project_c2(x):\n",
    "    \"\"\"\n",
    "    Project x onto the constraint set x.T @ np.ones(n) == 1\n",
    "    \"\"\"\n",
    "    if x.T @ np.ones(len(x)) != 1:\n",
    "        return x / np.linalg.norm(x + 1e-10,1)\n",
    "    else:\n",
    "        return x\n"
   ]
  },
  {
   "cell_type": "code",
   "execution_count": 113,
   "metadata": {},
   "outputs": [],
   "source": [
    "def projected_subgrad(Am, bm, a, steps=100):\n",
    "    x = np.ndarray((steps+1, n))\n",
    "    x[0,:] = np.zeros(n)\n",
    "    for i in range(steps):\n",
    "        if i % 2:\n",
    "            x_tmp = project_c1(x[i])\n",
    "        else:\n",
    "            x_tmp = project_c2(x[i])\n",
    "        g = subgrad_obj(x_tmp, Am, bm)\n",
    "        x[i+1,:] = x_tmp - a*g\n",
    "    return x"
   ]
  },
  {
   "cell_type": "code",
   "execution_count": 114,
   "metadata": {},
   "outputs": [],
   "source": [
    "xs = [[projected_subgrad(A[i,:,:], b[i,:], a) for i in range(T)] for a in alpha] "
   ]
  },
  {
   "cell_type": "code",
   "execution_count": 115,
   "metadata": {},
   "outputs": [],
   "source": [
    "obj_p = np.array([[[np.linalg.norm(A[j,:,:]@xs[a][j][idx][:] - b[j,:],1) for idx in range(101)] for j in range(T)] for a in range(len(alpha))])\n",
    "gaps_p = np.array([[obj_p[a, i, -1] - obj_cvxs[i] for a in range(len(alpha))] for i in range(T)])\n",
    "gaps_avg_p = np.average(gaps_p, axis=0)\n",
    "alpha_best_p = np.argmin(gaps_avg_p)\n",
    "projsub_best_gaps = np.array([obj_p[alpha_best_p, i, :] - obj_cvxs[i] for i in range(T)])\n",
    "projsub_avgbest_gap =  np.average(projsub_best_gaps, axis=0)"
   ]
  },
  {
   "cell_type": "markdown",
   "metadata": {},
   "source": [
    "## Plotting"
   ]
  },
  {
   "cell_type": "code",
   "execution_count": 116,
   "metadata": {},
   "outputs": [
    {
     "data": {
      "text/plain": [
       "<matplotlib.legend.Legend at 0x7fda3b5feb10>"
      ]
     },
     "execution_count": 116,
     "metadata": {},
     "output_type": "execute_result"
    },
    {
     "data": {
      "image/png": "[encoded data removed]",
      "text/plain": [
       "<Figure size 640x480 with 1 Axes>"
      ]
     },
     "metadata": {},
     "output_type": "display_data"
    }
   ],
   "source": [
    "fig, ax = plt.subplots()\n",
    "# ax.axhline(np.average(obj_cvxs,0), label='cvxpy')\n",
    "ax.plot(mirror_avgbest_gap, label='mirror descent')\n",
    "ax.plot(consub_avgbest_gap, label='constrained subgradient')\n",
    "ax.plot(projsub_avgbest_gap, label='projected subgradient')\n",
    "ax.set(xlabel='iterations', ylabel='optimality gap')\n",
    "ax.legend()"
   ]
  }
 ],
 "metadata": {
  "kernelspec": {
   "display_name": "cvx2",
   "language": "python",
   "name": "python3"
  },
  "language_info": {
   "codemirror_mode": {
    "name": "ipython",
    "version": 3
   },
   "file_extension": ".py",
   "mimetype": "text/x-python",
   "name": "python",
   "nbconvert_exporter": "python",
   "pygments_lexer": "ipython3",
   "version": "3.12.2"
  }
 },
 "nbformat": 4,
 "nbformat_minor": 2
}
