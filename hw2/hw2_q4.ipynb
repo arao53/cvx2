{
 "cells": [
  {
   "cell_type": "code",
   "execution_count": 2,
   "metadata": {},
   "outputs": [],
   "source": [
    "import numpy as np\n",
    "import matplotlib.pyplot as plt"
   ]
  },
  {
   "cell_type": "code",
   "execution_count": 3,
   "metadata": {},
   "outputs": [],
   "source": [
    "# problem data\n",
    "n = 2\n",
    "y = np.array([3,2])\n",
    "A = np.array([[1,-0.5],[-0.5,1]])\n",
    "l = np.array([0,-1])\n",
    "u = np.array([2,1])"
   ]
  },
  {
   "cell_type": "code",
   "execution_count": 4,
   "metadata": {},
   "outputs": [],
   "source": [
    "# projection functions and objective\n",
    "def Pb(x, \n",
    "       A = np.array([[1,-0.5],[-0.5,1]]), \n",
    "       y = np.array([3,2]),\n",
    "       alpha = 0.01):\n",
    "    \"\"\"\n",
    "    Project x onto the set (x-y)^T A (x-y) <= 1\n",
    "    \"\"\"\n",
    "    x_p = x.copy() # guess value\n",
    "    lam = 0. # lagrange multiplier\n",
    "    for i in range(200):\n",
    "        x_p1 = (x_p - x) - alpha * (lam + np.max([0, (x_p - y).T @ A @ (x_p - y) - 1])), np.max([0, A @ (x_p - y)])\n",
    "        lam1 = lam + alpha * np.max([0, (x_p - y).T @ A @ (x_p - y) - 1])\n",
    "\n",
    "        x = x_p1\n",
    "        lam = lam1\n",
    "    return x_p\n",
    "\n",
    "def Pe(x,\n",
    "       l = np.array([0,-1]),\n",
    "       u = np.array([2,1]),\n",
    "       alpha = 0.01,\n",
    "       steps = 200):\n",
    "    \"\"\"\n",
    "    Project x onto the set l <= x <= u\n",
    "    min (xp - x)^T(xp - x) s.t. l <= xp <= u\n",
    "    \"\"\"\n",
    "    x_p = x.copy()\n",
    "    lam = np.zeros(len(u) + len(l))\n",
    "    for i in range(steps):\n",
    "        f = np.array([np.max([np.zeros(2), x_p - u], axis=0), np.max([np.zeros(2), l - x_p], axis=0)]).flatten()\n",
    "        g = np.array([np.max(np.zeros(2), np.sign(x_p), axis=0), np.max([np.zeros(2), np.sign(-x_p)], axis=0)]).flatten()\n",
    "        x_p1 = x_p - alpha * x_p * (f + lam).T @ g\n",
    "        lam1 = lam + alpha * np.max([0, x_p - u]) * np.max([0, x_p - l])\n",
    "\n",
    "        if x_p1 - x_p < 1e-6:\n",
    "            return x_p1\n",
    "        else:\n",
    "            x_p = x_p1\n",
    "            lam = lam1\n",
    "\n",
    "    return x_p1\n",
    "\n",
    "def get_objective(x):\n",
    "    return np.max(Pb(x), Pe(x))"
   ]
  },
  {
   "cell_type": "code",
   "execution_count": null,
   "metadata": {},
   "outputs": [],
   "source": [
    "# algorithm \n",
    "steps = 500\n",
    "x = 0\n",
    "\n",
    "for i in range(steps):\n",
    "    if i % 2 == 0:\n",
    "        # project x onto set E\n",
    "        pass\n",
    "    else:\n",
    "        # project x onto set B\n",
    "        pass\n"
   ]
  }
 ],
 "metadata": {
  "kernelspec": {
   "display_name": "cvx2",
   "language": "python",
   "name": "python3"
  },
  "language_info": {
   "codemirror_mode": {
    "name": "ipython",
    "version": 3
   },
   "file_extension": ".py",
   "mimetype": "text/x-python",
   "name": "python",
   "nbconvert_exporter": "python",
   "pygments_lexer": "ipython3",
   "version": "3.12.2"
  }
 },
 "nbformat": 4,
 "nbformat_minor": 2
}
