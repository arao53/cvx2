{
 "cells": [
  {
   "cell_type": "code",
   "execution_count": 68,
   "metadata": {},
   "outputs": [],
   "source": [
    "import itertools\n",
    "import numpy as np\n",
    "import cvxpy as cvx"
   ]
  },
  {
   "cell_type": "markdown",
   "metadata": {},
   "source": [
    "## Part A"
   ]
  },
  {
   "cell_type": "code",
   "execution_count": 69,
   "metadata": {},
   "outputs": [
    {
     "name": "stdout",
     "output_type": "stream",
     "text": [
      "The system has 6 vertices.\n",
      "The vertices are:\n",
      "[-1.32665573  1.30909998  0.15860189 -3.63057754 -0.0158668 ]\n",
      "[-0.37468995  2.57136592 -0.89602599 -0.97066311 -1.16175559]\n",
      "[-0.86240138 -0.18322939 -1.06390974 -1.75327847  0.71805038]\n",
      "[-0.34335361 -0.66487018  0.67554263 -1.07897643  0.58301783]\n",
      "[-0.60554691 -0.17010846 -1.45265679 -1.31841771 -1.17763564]\n",
      "[-0.08649914 -0.65174925  0.28679557 -0.64411568 -1.31266819]\n"
     ]
    }
   ],
   "source": [
    "# grab data\n",
    "A = np.genfromtxt('data/Amatrix.csv', delimiter=',')\n",
    "b = np.genfromtxt('data/bvector.csv', delimiter=',')\n",
    "\n",
    "n, d = A.shape\n",
    "\n",
    "verts = []\n",
    "for comb in itertools.combinations(range(n), d):\n",
    "    idx = np.array(comb)\n",
    "    A_sub = A[idx, :]\n",
    "    if np.linalg.matrix_rank(A_sub) == d:\n",
    "        x_sub = np.linalg.inv(A_sub) @ b[idx]\n",
    "        if np.all(A @ x_sub <= b):\n",
    "            verts.append(x_sub)\n",
    "    else:\n",
    "        pass\n",
    "\n",
    "print(\"The system has {} vertices.\".format(len(verts)))\n",
    "print(\"The vertices are:\")\n",
    "for vert in verts:\n",
    "    print(vert)"
   ]
  },
  {
   "cell_type": "markdown",
   "metadata": {},
   "source": [
    "## Part B"
   ]
  },
  {
   "cell_type": "code",
   "execution_count": 70,
   "metadata": {},
   "outputs": [
    {
     "name": "stdout",
     "output_type": "stream",
     "text": [
      "The center of the max volume ellipsoid is: [-1.0856306   0.99734545  0.2829785  -1.50629471 -0.57860025]\n"
     ]
    }
   ],
   "source": [
    "# max interior ellipsoid\n",
    "B = cvx.Variable((d, d), symmetric=True)\n",
    "c = cvx.Variable(d)\n",
    "\n",
    "obj = cvx.Maximize(cvx.log_det(B))\n",
    "con = [cvx.norm(B @ A[i, :], 2) + A[i, :] @ c <= b[i] for i in range(n)]\n",
    "prob_in = cvx.Problem(obj, con)\n",
    "prob_in.solve()\n",
    "\n",
    "print(\"The center of the max volume ellipsoid is: {}\".format(c.value))"
   ]
  },
  {
   "cell_type": "code",
   "execution_count": 71,
   "metadata": {},
   "outputs": [
    {
     "name": "stdout",
     "output_type": "stream",
     "text": [
      "===============================================================================\n",
      "                                     CVXPY                                     \n",
      "                                     v1.4.3                                    \n",
      "===============================================================================\n",
      "(CVXPY) May 02 06:42:32 PM: Your problem has 30 variables, 6 constraints, and 0 parameters.\n",
      "(CVXPY) May 02 06:42:32 PM: It is compliant with the following grammars: DCP, DQCP\n",
      "(CVXPY) May 02 06:42:32 PM: (If you need to solve this problem multiple times, but with different data, consider using parameters.)\n",
      "(CVXPY) May 02 06:42:32 PM: CVXPY will first compile your problem; then, it will invoke a numerical solver to obtain a solution.\n",
      "(CVXPY) May 02 06:42:32 PM: Your problem is compiled with the CPP canonicalization backend.\n",
      "-------------------------------------------------------------------------------\n",
      "                                  Compilation                                  \n",
      "-------------------------------------------------------------------------------\n",
      "(CVXPY) May 02 06:42:32 PM: Compiling problem (target solver=SCS).\n",
      "(CVXPY) May 02 06:42:32 PM: Reduction chain: FlipObjective -> Dcp2Cone -> CvxAttr2Constr -> Dcp2Cone -> CvxAttr2Constr -> ConeMatrixStuffing -> SCS\n",
      "(CVXPY) May 02 06:42:32 PM: Applying reduction FlipObjective\n",
      "(CVXPY) May 02 06:42:32 PM: Applying reduction Dcp2Cone\n",
      "(CVXPY) May 02 06:42:32 PM: Applying reduction CvxAttr2Constr\n",
      "(CVXPY) May 02 06:42:32 PM: Applying reduction Dcp2Cone\n",
      "(CVXPY) May 02 06:42:32 PM: Applying reduction CvxAttr2Constr\n",
      "(CVXPY) May 02 06:42:32 PM: Applying reduction ConeMatrixStuffing\n",
      "(CVXPY) May 02 06:42:32 PM: Applying reduction SCS\n",
      "(CVXPY) May 02 06:42:32 PM: Finished problem compilation (took 2.871e-02 seconds).\n",
      "-------------------------------------------------------------------------------\n",
      "                                Numerical solver                               \n",
      "-------------------------------------------------------------------------------\n",
      "(CVXPY) May 02 06:42:32 PM: Invoking solver SCS  to obtain a solution.\n",
      "------------------------------------------------------------------\n",
      "\t       SCS v3.2.4 - Splitting Conic Solver\n",
      "\t(c) Brendan O'Donoghue, Stanford University, 2012\n",
      "------------------------------------------------------------------\n",
      "problem:  variables n: 46, constraints m: 112\n",
      "cones: \t  l: linear vars: 6\n",
      "\t  q: soc vars: 36, qsize: 6\n",
      "\t  s: psd vars: 55, ssize: 1\n",
      "\t  e: exp vars: 15, dual exp vars: 0\n",
      "settings: eps_abs: 1.0e-05, eps_rel: 1.0e-05, eps_infeas: 1.0e-07\n",
      "\t  alpha: 1.50, scale: 1.00e-01, adaptive_scale: 1\n",
      "\t  max_iters: 100000, normalize: 1, rho_x: 1.00e-06\n",
      "\t  acceleration_lookback: 10, acceleration_interval: 10\n",
      "lin-sys:  sparse-direct-amd-qdldl\n",
      "\t  nnz(A): 237, nnz(P): 0\n",
      "------------------------------------------------------------------\n",
      " iter | pri res | dua res |   gap   |   obj   |  scale  | time (s)\n",
      "------------------------------------------------------------------\n",
      "     0| 1.08e+01  7.53e-01  6.17e+01 -3.05e+01  1.00e-01  2.08e-03 \n",
      "   250| 4.79e-02  6.29e-03  3.92e-03 -1.84e+00  6.83e-03  5.80e-03 \n",
      "   500| 2.25e+00  4.39e-03  2.96e-02 -3.82e+00  1.44e-03  9.35e-03 \n",
      "   750| 2.05e+03  1.52e+00  4.25e+03 -2.13e+03  1.44e-03  1.30e-02 \n",
      "  1000| 1.00e+00  2.62e-04  8.97e-03 -6.29e+00  1.44e-03  1.64e-02 \n",
      "  1250| 1.66e-01  3.35e-04  1.01e-03 -5.18e+00  1.44e-03  1.99e-02 \n",
      "  1500| 2.95e+00  8.26e-03  1.92e-02 -5.44e+00  1.44e-03  2.36e-02 \n",
      "  1750| 2.25e-01  3.38e-04  1.25e-03 -5.38e+00  1.44e-03  2.75e-02 \n",
      "  2000| 1.00e+00  7.00e-04  1.52e-02 -6.32e+00  1.44e-03  3.10e-02 \n",
      "  2250| 2.34e-01  3.19e-04  4.05e-05 -5.23e+00  1.44e-03  3.45e-02 \n",
      "  2500| 9.95e-01  2.73e-03  1.15e-03 -5.39e+00  1.44e-03  3.80e-02 \n",
      "  2750| 1.86e+00  8.08e-03  9.14e-04 -5.62e+00  1.44e-03  4.16e-02 \n",
      "  3000| 1.49e-01  2.36e-04  2.03e-04 -5.04e+00  1.44e-03  4.53e-02 \n",
      "  3250| 9.64e-02  2.40e-04  1.34e-04 -5.00e+00  1.44e-03  4.87e-02 \n",
      "  3500| 6.48e-02  2.31e-04  2.18e-04 -4.99e+00  1.44e-03  5.20e-02 \n",
      "  3750| 4.67e-02  2.29e-04  2.17e-04 -4.99e+00  1.44e-03  5.55e-02 \n",
      "  4000| 3.81e-02  2.27e-04  2.13e-04 -5.00e+00  1.44e-03  5.88e-02 \n",
      "  4250| 3.66e-02  2.24e-04  2.06e-04 -5.01e+00  1.44e-03  6.21e-02 \n",
      "  4500| 3.56e-02  2.21e-04  1.99e-04 -5.02e+00  1.44e-03  6.55e-02 \n",
      "  4750| 3.41e-02  2.18e-04  1.89e-04 -5.03e+00  1.44e-03  6.89e-02 \n",
      "  5000| 3.36e-02  2.16e-04  1.76e-04 -5.04e+00  1.44e-03  7.23e-02 \n",
      "  5250| 3.27e-02  2.14e-04  1.78e-04 -5.05e+00  1.44e-03  7.57e-02 \n",
      "  5500| 3.14e-02  2.10e-04  1.67e-04 -5.07e+00  1.44e-03  7.90e-02 \n",
      "  5750| 3.10e-02  2.09e-04  1.66e-04 -5.08e+00  1.44e-03  8.23e-02 \n",
      "  6000| 3.08e-02  2.07e-04  8.03e-05 -5.08e+00  4.55e-04  8.56e-02 \n",
      "  6250| 3.33e-01  1.96e-04  3.89e-05 -5.09e+00  4.47e-06  8.89e-02 \n",
      "  6500| 7.67e+00  4.33e-05  7.72e-04 -6.77e+00  4.47e-06  9.21e-02 \n",
      "  6750| 5.90e+00  3.44e-05  5.70e-04 -7.08e+00  4.47e-06  9.53e-02 \n",
      "  7000| 1.26e+02  7.50e-04  2.88e-03 -7.95e+00  4.47e-06  9.86e-02 \n",
      "  7250| 4.26e+00  2.35e-05  3.57e-04 -7.55e+00  4.47e-06  1.02e-01 \n",
      "  7500| 3.18e+00  1.98e-05  2.94e-04 -7.75e+00  4.47e-06  1.05e-01 \n",
      "  7750| 2.40e+00  1.61e-05  2.18e-04 -8.00e+00  4.47e-06  1.08e-01 \n",
      "  8000| 1.97e+00  1.41e-05  1.77e-04 -8.17e+00  4.47e-06  1.12e-01 \n",
      "  8250| 1.69e+00  1.28e-05  1.50e-04 -8.28e+00  4.47e-06  1.15e-01 \n",
      "  8500| 1.38e+00  1.15e-05  1.22e-04 -8.42e+00  4.47e-06  1.18e-01 \n",
      "  8550| 8.07e-01  8.42e-06  5.99e-05 -8.75e+00  4.47e-06  1.19e-01 \n",
      "------------------------------------------------------------------\n",
      "status:  solved\n",
      "timings: total: 1.19e-01s = setup: 1.08e-03s + solve: 1.18e-01s\n",
      "\t lin-sys: 1.92e-02s, cones: 9.07e-02s, accel: 2.00e-03s\n",
      "------------------------------------------------------------------\n",
      "objective = -8.751581\n",
      "------------------------------------------------------------------\n",
      "-------------------------------------------------------------------------------\n",
      "                                    Summary                                    \n",
      "-------------------------------------------------------------------------------\n",
      "(CVXPY) May 02 06:42:32 PM: Problem status: optimal\n",
      "(CVXPY) May 02 06:42:32 PM: Optimal value: 8.005e+00\n",
      "(CVXPY) May 02 06:42:32 PM: Compilation took 2.871e-02 seconds\n",
      "(CVXPY) May 02 06:42:32 PM: Solver (including time spent in interface) took 1.197e-01 seconds\n",
      "The center of the min volume ellipsoid is: [-2042.06819956    13.69637222   300.76401979   775.08283426\n",
      "  -160.16928917]\n"
     ]
    }
   ],
   "source": [
    "# lowner jon ellipsoid\n",
    "K = cvx.Variable((d, d), symmetric=True)\n",
    "g = cvx.Variable(d)\n",
    "\n",
    "obj = cvx.Maximize(cvx.log_det(K))\n",
    "con = [cvx.norm(K @ v + g, 2) <= 1 for v in verts]\n",
    "prob_out = cvx.Problem(obj, con)\n",
    "prob_out.solve(verbose=True)\n",
    "\n",
    "print(\"The center of the min volume ellipsoid is: {}\".format(g.value))"
   ]
  },
  {
   "cell_type": "code",
   "execution_count": 72,
   "metadata": {},
   "outputs": [
    {
     "name": "stdout",
     "output_type": "stream",
     "text": [
      "The volume ratio is: 0.00033377291946367846\n"
     ]
    }
   ],
   "source": [
    "vol_ratio = np.exp(prob_in.value) / np.exp(prob_out.value)\n",
    "print(\"The volume ratio is: {}\".format(vol_ratio))"
   ]
  },
  {
   "cell_type": "markdown",
   "metadata": {},
   "source": [
    "## Part C"
   ]
  },
  {
   "cell_type": "code",
   "execution_count": 73,
   "metadata": {},
   "outputs": [],
   "source": [
    "O = np.genfromtxt('data/Omatrix.csv', delimiter=',')\n",
    "v = np.genfromtxt('data/vvector.csv', delimiter=',')\n",
    "\n",
    "M = int(1e6)\n",
    "x = np.random.uniform(-1,1,(d,M))\n",
    "\n",
    "M_small = 0\n",
    "M_large = 0\n",
    "M_c = 0\n",
    "for i in range(M):\n",
    "    xp = O.T @ x[:,i] + v\n",
    "    if np.all(A @ xp <= b) and np.ones(d).T @ (xp - c.value) >= 0:\n",
    "        M_small += 1\n",
    "    if np.all(A @ xp <= b) and np.ones(d).T @ (xp - g.value) >= 0:\n",
    "        M_large += 1\n",
    "    if np.all(A @ xp <= b):\n",
    "        M_c += 1"
   ]
  },
  {
   "cell_type": "code",
   "execution_count": 74,
   "metadata": {},
   "outputs": [
    {
     "name": "stdout",
     "output_type": "stream",
     "text": [
      "R_small = 0.49849\n",
      "R_large = 1.0\n"
     ]
    }
   ],
   "source": [
    "print(\"R_small = {}\".format(M_small / M_c))\n",
    "print(\"R_large = {}\".format(M_large / M_c))"
   ]
  }
 ],
 "metadata": {
  "kernelspec": {
   "display_name": "cvx2",
   "language": "python",
   "name": "python3"
  },
  "language_info": {
   "codemirror_mode": {
    "name": "ipython",
    "version": 3
   },
   "file_extension": ".py",
   "mimetype": "text/x-python",
   "name": "python",
   "nbconvert_exporter": "python",
   "pygments_lexer": "ipython3",
   "version": "3.12.2"
  }
 },
 "nbformat": 4,
 "nbformat_minor": 2
}
