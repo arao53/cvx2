{
 "cells": [
  {
   "cell_type": "code",
   "execution_count": 27,
   "metadata": {},
   "outputs": [],
   "source": [
    "import numpy as np\n",
    "import cvxpy as cp\n",
    "import scipy as sp\n",
    "import matplotlib.pyplot as plt"
   ]
  },
  {
   "cell_type": "code",
   "execution_count": 8,
   "metadata": {},
   "outputs": [],
   "source": [
    "# import data\n",
    "X_TRAIN_PATH = \"./X_train.csv\"\n",
    "Y_TRAIN_PATH = \"./Y_train.csv\"\n",
    "LAMBDA = 0.02\n",
    "RHO = 0.4\n",
    "T = 10\n",
    "GROUPS = [\n",
    "    [0],\n",
    "    [1],\n",
    "    [2],\n",
    "    [3, 4, 5, 6, 7],\n",
    "    [8, 9, 10, 11, 12, 13],\n",
    "    [14, 15],\n",
    "    [16],\n",
    "    [17],\n",
    "    [18],\n",
    "]\n",
    "\n",
    "X_train = np.loadtxt(X_TRAIN_PATH, delimiter=\",\")\n",
    "X_train = np.hstack([np.ones(X_train.shape[0])[:, np.newaxis], X_train])\n",
    "y_train = np.loadtxt(Y_TRAIN_PATH, delimiter=\",\")"
   ]
  },
  {
   "cell_type": "code",
   "execution_count": 30,
   "metadata": {},
   "outputs": [],
   "source": [
    "# set baseline parameters\n",
    "lam = 0.2\n",
    "w = np.array([np.sqrt(len(p)) for p in GROUPS])"
   ]
  },
  {
   "cell_type": "code",
   "execution_count": 36,
   "metadata": {},
   "outputs": [
    {
     "name": "stdout",
     "output_type": "stream",
     "text": [
      "Baseline beta:  1343776976.3312054\n",
      "Baseline beta:  [ 3.98535750e+01  2.65412806e+01 -2.68891640e+00 -6.48561419e-01\n",
      " -2.76877782e+01 -5.29745812e+02 -2.16003523e+01  5.79341730e+02\n",
      "  4.91315704e+01 -2.29817653e+01 -4.89177498e+03 -1.25810804e+01\n",
      "  1.28217895e+01  4.85510553e+03 -1.10494719e+01 -2.27949861e+01\n",
      "  3.66227330e+00 -2.72317322e+01  1.42421697e+01]\n"
     ]
    }
   ],
   "source": [
    "# solve baseline in cvxypy\n",
    "beta = cp.Variable(X_train.shape[1])\n",
    "# alpha = cp.Variable(len(GROUPS))\n",
    "n = X_train.shape[0]\n",
    "\n",
    "loss = (0.5 * n) * cp.norm(X_train @ beta - y_train, 2) ** 2 + lam * cp.sum([w[idx] * cp.norm(beta[g],2) for idx, g in enumerate(GROUPS[1:])])\n",
    "\n",
    "prob = cp.Problem(cp.Minimize(loss))\n",
    "prob.solve(solver=cp.CLARABEL)\n",
    "\n",
    "print(\"Baseline beta: \", prob.value)\n",
    "print(\"Baseline beta: \", beta.value)\n",
    "\n"
   ]
  },
  {
   "cell_type": "code",
   "execution_count": null,
   "metadata": {},
   "outputs": [],
   "source": [
    "# implement truncated newton method\n",
    "mu = 1.5\n",
    "t = 1\n",
    "iters = 50\n",
    "\n",
    "\n"
   ]
  }
 ],
 "metadata": {
  "kernelspec": {
   "display_name": "cvx2",
   "language": "python",
   "name": "python3"
  },
  "language_info": {
   "codemirror_mode": {
    "name": "ipython",
    "version": 3
   },
   "file_extension": ".py",
   "mimetype": "text/x-python",
   "name": "python",
   "nbconvert_exporter": "python",
   "pygments_lexer": "ipython3",
   "version": "3.12.2"
  }
 },
 "nbformat": 4,
 "nbformat_minor": 2
}
